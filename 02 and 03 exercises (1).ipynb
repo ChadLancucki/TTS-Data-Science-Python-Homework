{
 "cells": [
  {
   "cell_type": "markdown",
   "id": "2d19f6f3",
   "metadata": {},
   "source": [
    "<b> 02 and 03 Exercises </b>"
   ]
  },
  {
   "cell_type": "markdown",
   "id": "fc841134",
   "metadata": {},
   "source": [
    "<b> 02 Exercises - Data Structures <b>"
   ]
  },
  {
   "cell_type": "markdown",
   "id": "62ff64de",
   "metadata": {},
   "source": [
    "Take the following two lists. Create a third list by picking a odd-index elements from the first list and even-index elements from the second.\n",
    "\n",
    "listOne = [3, 6, 9, 12, 15, 18, 21]\n",
    "listTwo = [4, 8, 12, 16, 20, 24, 28]"
   ]
  },
  {
   "cell_type": "code",
   "execution_count": 125,
   "id": "7554ca94",
   "metadata": {},
   "outputs": [
    {
     "name": "stdout",
     "output_type": "stream",
     "text": [
      "[6, 12, 18, 4, 12, 20, 28]\n"
     ]
    }
   ],
   "source": [
    "listOne = [3, 6, 9, 12, 15, 18, 21] \n",
    "listTwo = [4, 8, 12, 16, 20, 24, 28]\n",
    "listThree = listOne[1::2] + listTwo[0::2]\n",
    "print(listThree)"
   ]
  },
  {
   "cell_type": "markdown",
   "id": "6ab75264",
   "metadata": {},
   "source": [
    "Take the following list. Slice it into three equal chunks and reverse each list.\n",
    "\n",
    "sampleList = [11, 45, 8, 23, 14, 12, 78, 45, 89]"
   ]
  },
  {
   "cell_type": "code",
   "execution_count": 126,
   "id": "9f89b102",
   "metadata": {},
   "outputs": [
    {
     "name": "stdout",
     "output_type": "stream",
     "text": [
      "[8, 45, 11]\n",
      "[12, 14, 23]\n",
      "[89, 45, 78]\n"
     ]
    }
   ],
   "source": [
    "sampleList = [11, 45, 8, 23, 14, 12, 78, 45, 89]\n",
    "length=len(sampleList)\n",
    "chunk = length//3\n",
    "slice1 = sampleList[:chunk]\n",
    "slice2 = sampleList[chunk:2*chunk]\n",
    "slice3 = sampleList[2*chunk:3*chunk]\n",
    "print(slice1[::-1])\n",
    "print(slice2[::-1])\n",
    "print(slice3[::-1])"
   ]
  },
  {
   "cell_type": "markdown",
   "id": "eaa97400",
   "metadata": {},
   "source": [
    "Iterate through a given list and check if a given element already exists in a dictionary as a key’s value. If not, delete it from the list.\n",
    "\n",
    "rollNumber = [47, 64, 69, 37, 76, 83, 95, 97]\n",
    "sampleDict ={'Zach':47, 'Emma':69, 'Kelly':76, 'Jason':97}"
   ]
  },
  {
   "cell_type": "code",
   "execution_count": 127,
   "id": "3af2d30a",
   "metadata": {},
   "outputs": [
    {
     "name": "stdout",
     "output_type": "stream",
     "text": [
      "Keeping:  47\n",
      "Deleting:  64\n",
      "Keeping:  69\n",
      "Deleting:  37\n",
      "Keeping:  76\n",
      "Deleting:  83\n",
      "Deleting:  95\n",
      "Keeping:  97\n",
      "New rollnumber:  [47, 69, 76, 97]\n"
     ]
    }
   ],
   "source": [
    "rollNumber = [47, 64, 69, 37, 76, 83, 95, 97] \n",
    "sampleDict ={'Zach':47, 'Emma':69, 'Kelly':76, 'Jason':97}\n",
    "newlist1 = []\n",
    "newlist2 = []\n",
    "for i in sampleDict:\n",
    "    newlist1.append(sampleDict[i])\n",
    "    \n",
    "for j in rollNumber:\n",
    "    if j in newlist1:\n",
    "        print('Keeping: ', j)\n",
    "    else:\n",
    "        print('Deleting: ', j)\n",
    "        newlist2.append(j)\n",
    "        \n",
    "NewrollNumber = [x for x in rollNumber if x not in newlist2]\n",
    "print('New rollnumber: ', NewrollNumber)"
   ]
  },
  {
   "cell_type": "markdown",
   "id": "b9249698",
   "metadata": {},
   "source": [
    "Write a simple statement to check whether an element exists within a tuple."
   ]
  },
  {
   "cell_type": "code",
   "execution_count": 128,
   "id": "73cc5416",
   "metadata": {},
   "outputs": [
    {
     "name": "stdout",
     "output_type": "stream",
     "text": [
      "Enter a Value to Check: 85\n",
      "85  does exist within the tuple\n"
     ]
    }
   ],
   "source": [
    "tuple = (11, 42, 53, 85, 8, 93, 76)\n",
    "check = int(input('Enter a Value to Check: '))\n",
    "\n",
    "if check in tuple:\n",
    "            \n",
    "    print(check , ' does exist within the tuple')\n",
    "else:\n",
    "    print(check , ' does not exist within the tuple')"
   ]
  },
  {
   "cell_type": "markdown",
   "id": "9c3672b7",
   "metadata": {},
   "source": [
    "Write a Python function to multiply all the numbers in a list."
   ]
  },
  {
   "cell_type": "code",
   "execution_count": 129,
   "id": "ff578435",
   "metadata": {},
   "outputs": [
    {
     "name": "stdout",
     "output_type": "stream",
     "text": [
      "[100, 150, 200, 250, 300, 350, 400, 450, 500]\n"
     ]
    }
   ],
   "source": [
    "list = [10, 15, 20, 25, 30, 35, 40, 45, 50]\n",
    "newlist=[]\n",
    "for i in list:\n",
    "    newlist.append(i*10)\n",
    "    \n",
    "print(newlist)"
   ]
  },
  {
   "cell_type": "markdown",
   "id": "646b97a3",
   "metadata": {},
   "source": [
    "Write a Python program to reverse a string. Hint: Use indexing [start:stop:step]"
   ]
  },
  {
   "cell_type": "code",
   "execution_count": 135,
   "id": "5e35d7ac",
   "metadata": {},
   "outputs": [
    {
     "name": "stdout",
     "output_type": "stream",
     "text": [
      "This string will be reversed\n",
      "Reverse of above string is:  desrever eb lliw gnirts sihT\n"
     ]
    }
   ],
   "source": [
    "string = \"This string will be reversed\"\n",
    "print(string)\n",
    "print('Reverse of above string is:  ' + string[::-1])\n"
   ]
  },
  {
   "cell_type": "markdown",
   "id": "c825cadc",
   "metadata": {},
   "source": [
    "Describe the difference between floats, integers, and binarys. Bonus: Describe the difference between precision types (i.e float32 and float64) and the relationship it has with system memory."
   ]
  },
  {
   "cell_type": "markdown",
   "id": "004469ef",
   "metadata": {},
   "source": [
    "Float is the data type for a numeric value with decimal places. Integer is the data type for whole number numberic values. Binary is the data type for values with only two options, Booleans are an example of this where the only possible values are true or false."
   ]
  },
  {
   "cell_type": "markdown",
   "id": "1105fac8",
   "metadata": {},
   "source": [
    "Describe the difference between a list, tuple, dict, and set."
   ]
  },
  {
   "cell_type": "markdown",
   "id": "243e7e28",
   "metadata": {},
   "source": [
    "A list is ordered an mutable set of data while a tuple is an ordered set of data that is immutable, meaning it cannot be changed once it is defined. Dictionaries are unordered sets of flexible matchings of keys to values, meaning a value can be pulled by entering the key. Finally sets are an unordered collection of unique values."
   ]
  },
  {
   "cell_type": "markdown",
   "id": "85c3d93e",
   "metadata": {},
   "source": [
    "Describe 3 methods or functions that act upon a list, tuple, dict, and strings (12 total). If citing the same method, describe how it might behave differently between data."
   ]
  },
  {
   "cell_type": "markdown",
   "id": "9422d85e",
   "metadata": {},
   "source": [
    "list: Append adds on to the end of the list. The sort method sorts the list in ascending order. Len displays the length of the list.\n",
    "\n",
    "tuple: Print displays the content of the tuple. Len displays the length of the tuple but this is an immutable value compared to a list. Denoting the tuple and the index can access a single element of the tuple.\n",
    "\n",
    "dict: Dictionaries can be accessed by denoting the dictionary and the key for a given pair. Denoting a new key and value can append onto the end of a dictionary. Printing a dictionary prints both the keys and the values which is unique to the dictionary.\n",
    "\n",
    "string: Printing a string will display the value of the string, which would only be one of the values in a list. Adding to a string concatenates the value onto the end of the existing string. Int() can be used to convert a numeric string to an integer data type."
   ]
  },
  {
   "cell_type": "markdown",
   "id": "8a435dab",
   "metadata": {},
   "source": [
    "<b> 03 Exercises - Control Flow <b>"
   ]
  },
  {
   "cell_type": "markdown",
   "id": "da83b7f2",
   "metadata": {},
   "source": [
    "Use a for-loop, iterate over a list, and print each item.\n",
    "\n",
    "list: [1,2,3,4,5,6,7,8,9]"
   ]
  },
  {
   "cell_type": "code",
   "execution_count": 136,
   "id": "4c789431",
   "metadata": {},
   "outputs": [
    {
     "name": "stdout",
     "output_type": "stream",
     "text": [
      "1\n",
      "2\n",
      "3\n",
      "4\n",
      "5\n",
      "6\n",
      "7\n",
      "8\n",
      "9\n"
     ]
    }
   ],
   "source": [
    "for i in [1,2,3,4,5,6,7,8,9]:\n",
    "    print(i)"
   ]
  },
  {
   "cell_type": "markdown",
   "id": "4e0e9e7c",
   "metadata": {},
   "source": [
    "Using the last code you wrote, print whether the item is even or odd. Hint: Use an if-else sequence and modulus condition."
   ]
  },
  {
   "cell_type": "code",
   "execution_count": 137,
   "id": "84d6a899",
   "metadata": {},
   "outputs": [
    {
     "name": "stdout",
     "output_type": "stream",
     "text": [
      "1 is odd\n",
      "2 is even\n",
      "3 is odd\n",
      "4 is even\n",
      "5 is odd\n",
      "6 is even\n",
      "7 is odd\n",
      "8 is even\n",
      "9 is odd\n"
     ]
    }
   ],
   "source": [
    "for i in [1,2,3,4,5,6,7,8,9]:\n",
    "    if i%2 == 0:\n",
    "        print(\"%i is even\" % i)\n",
    "    else:\n",
    "        print(\"%i is odd\" % i)"
   ]
  },
  {
   "cell_type": "markdown",
   "id": "277a4c8d",
   "metadata": {},
   "source": [
    "Using the last code you wrote, break out of the sequence when the for iteration count is greater than 7. Bonus: Make it break out when the prime number count equals 4 (1,2,3, and 7). "
   ]
  },
  {
   "cell_type": "code",
   "execution_count": 138,
   "id": "3ff4656d",
   "metadata": {},
   "outputs": [
    {
     "name": "stdout",
     "output_type": "stream",
     "text": [
      "1 is odd\n",
      "2 is even\n",
      "3 is odd\n",
      "4 is even\n",
      "5 is odd\n",
      "6 is even\n",
      "7 is odd\n"
     ]
    }
   ],
   "source": [
    "for i in [1,2,3,4,5,6,7,8,9]:\n",
    "    if i>7:\n",
    "        break\n",
    "    elif i%2 == 0:\n",
    "        print(\"%i is even\" % i)\n",
    "    else:\n",
    "        print(\"%i is odd\" % i)"
   ]
  },
  {
   "cell_type": "markdown",
   "id": "9cb145d6",
   "metadata": {},
   "source": [
    "Guess a number between 1 to 9 given by the user. Hint: Look into the \"random\" function."
   ]
  },
  {
   "cell_type": "code",
   "execution_count": 142,
   "id": "c0ed71db",
   "metadata": {},
   "outputs": [
    {
     "name": "stdout",
     "output_type": "stream",
     "text": [
      "Enter a Number between 1 and 9 to Guess: 1\n",
      "Your guess is too low\n",
      "Guess again: 5\n",
      "Your guess is too high\n",
      "Guess again: 4\n",
      "Your guess is too high\n",
      "Guess again: 2\n",
      "You guessed correct! The number was 2\n"
     ]
    }
   ],
   "source": [
    "import random\n",
    "guess = int(input(\"Enter a Number between 1 and 9 to Guess: \"))\n",
    "number = random.randint(1,9)\n",
    "while guess != number:\n",
    "    if guess > number:\n",
    "        print(\"Your guess is too high\")\n",
    "        guess = int(input(\"Guess again: \"))\n",
    "    else:\n",
    "        print(\"Your guess is too low\")\n",
    "        guess = int(input(\"Guess again: \"))\n",
    "\n",
    "print(\"You guessed correct! The number was %g\" %guess)"
   ]
  },
  {
   "cell_type": "markdown",
   "id": "50163b68",
   "metadata": {},
   "source": [
    "Check the validity of password input by the user. It must pass these tests:\n",
    "\n",
    "Minimum of 1 letter between [a-z] and 1 letter between [A-Z]\n",
    "\n",
    "Minimum of 1 number between [0-9]\n",
    "\n",
    "Minimum of 1 character from [$#@]\n",
    "\n",
    "Minimum of 6 total characters\n",
    "\n",
    "Maximum of 16 characters"
   ]
  },
  {
   "cell_type": "code",
   "execution_count": 201,
   "id": "088a1972",
   "metadata": {},
   "outputs": [
    {
     "name": "stdout",
     "output_type": "stream",
     "text": [
      "Enter a Password: pass\n",
      "Password needs length between 6 and 16 characters\n",
      "Try Again: password\n",
      "Password needs special character\n",
      "Try Again: password#\n",
      "Password needs number\n",
      "Try Again: password#4\n",
      "Password needs uppercase letter\n",
      "Try Again: password#4Python\n",
      "Password is Valid\n"
     ]
    }
   ],
   "source": [
    "import re\n",
    "password = input('Enter a Password: ')\n",
    "while True:\n",
    "    if len(password)<=16 and len(password)>=6:\n",
    "        if re.search(\"[$,#,@]\", password):\n",
    "            if re.search(\"[0-9]\", password):\n",
    "                if re.search(\"[a-z]\", password):\n",
    "                    if re.search(\"[A-Z]\", password):\n",
    "                        print('Password is Valid')\n",
    "                        break\n",
    "                    else:\n",
    "                        print('Password needs uppercase letter')\n",
    "                        password = input('Try Again: ')\n",
    "                else:\n",
    "                    print('Password needs lowercase letter')\n",
    "                    password = input('Try Again: ')\n",
    "            else:\n",
    "                print('Password needs number')\n",
    "                password = input('Try Again: ')\n",
    "        else:\n",
    "            print('Password needs special character')\n",
    "            password = input('Try Again: ')\n",
    "    else:\n",
    "        print('Password needs length between 6 and 16 characters')\n",
    "        password = input('Try Again: ')"
   ]
  },
  {
   "cell_type": "markdown",
   "id": "57d4ce96",
   "metadata": {},
   "source": [
    "Get input of the age of 3 people by user and determine oldest and youngest among them"
   ]
  },
  {
   "cell_type": "code",
   "execution_count": 172,
   "id": "f8ebc6bb",
   "metadata": {},
   "outputs": [
    {
     "name": "stdout",
     "output_type": "stream",
     "text": [
      "Enter 1st Age: 63\n",
      "Enter 2nd Age: 25\n",
      "Enter 3rd Age: 72\n",
      "3rd Age is the oldest with an age of: 72 years old\n",
      "2nd Age is the youngest with an age of: 25 years old\n"
     ]
    }
   ],
   "source": [
    "age1 = int(input('Enter 1st Age: '))\n",
    "age2 = int(input('Enter 2nd Age: '))\n",
    "age3 = int(input('Enter 3rd Age: '))\n",
    "\n",
    "for i in range(1):\n",
    "    if age1 > age2 and age1 > age3:\n",
    "        print('1st Age is the oldest with an age of: %a years old' % age1)\n",
    "\n",
    "    elif age2 > age1 and age2 > age3:\n",
    "        print('2nd Age is the oldest with an age of: %a years old' % age2)\n",
    "    \n",
    "    else:\n",
    "        print('3rd Age is the oldest with an age of: %a years old' % age3)\n",
    "\n",
    "for j in range(1):\n",
    "    if age1 < age2 and age1 < age3:\n",
    "        print('1st Age is the youngest with an age of: %a years old' % age1)\n",
    "\n",
    "    elif age2 < age1 and age2 < age3:\n",
    "        print('2nd Age is the youngest with an age of: %a years old' % age2)\n",
    "    \n",
    "    else:\n",
    "        print('3rd Age is the youngest with an age of: %a years old' % age3)"
   ]
  },
  {
   "cell_type": "markdown",
   "id": "49683521",
   "metadata": {},
   "source": [
    "A student will not be allowed to sit in exam if his/her attendance is less than 75%. Print percentage of class attended.\n",
    "\n",
    "Take following input from user: number of classes held, number of classes attended\n",
    "\n",
    "Is student is allowed to sit in exam or not?"
   ]
  },
  {
   "cell_type": "code",
   "execution_count": 175,
   "id": "6a713967",
   "metadata": {},
   "outputs": [
    {
     "name": "stdout",
     "output_type": "stream",
     "text": [
      "Number of Classes Held: 100\n",
      "Number of Classes Attended: 76\n",
      "Student attendance is 76.0%, so student is allowed to sit in exam\n"
     ]
    }
   ],
   "source": [
    "classnum = int(input('Number of Classes Held: '))\n",
    "classatten = int(input('Number of Classes Attended: '))\n",
    "classpercent = (classatten/classnum)*100\n",
    "if classpercent < 75.0:\n",
    "    print(\"Student attendance is \" + str(classpercent) + \"%, so student is NOT allowed to sit in exam\")\n",
    "\n",
    "else:\n",
    "    print(\"Student attendance is \" + str(classpercent) + \"%, so student is allowed to sit in exam\")"
   ]
  },
  {
   "cell_type": "markdown",
   "id": "9809d83e",
   "metadata": {},
   "source": [
    "Get an integer N from the user and perform the following actions:\n",
    "\n",
    "if N is odd, print \"weird\"\n",
    "\n",
    "if N is even and in the inclusive range of 2 to 5, print \"Not Weird\"\n",
    "\n",
    "if N is even and in the inclusive range of 6 to 20, print \"Weird\"\n",
    "\n",
    "if N is even and greater than 20, print \"Not Weird\""
   ]
  },
  {
   "cell_type": "code",
   "execution_count": 87,
   "id": "5ae304c1",
   "metadata": {},
   "outputs": [
    {
     "name": "stdout",
     "output_type": "stream",
     "text": [
      "Enter an integer: 18\n",
      "Weird\n"
     ]
    }
   ],
   "source": [
    "N = int(input('Enter an integer: '))\n",
    "if N % 2 != 0 :\n",
    "    print('weird')\n",
    "elif N % 2 == 0 and N in range(2,6):\n",
    "    print('Not Weird')\n",
    "elif N % 2 == 0 and N in range(6,21):\n",
    "    print('Weird')\n",
    "elif N % 2 == 0 and N>20:\n",
    "    print('Not Weird')"
   ]
  },
  {
   "cell_type": "markdown",
   "id": "4981afa6",
   "metadata": {},
   "source": [
    "Define \"recursion\""
   ]
  },
  {
   "cell_type": "markdown",
   "id": "7fdd041f",
   "metadata": {},
   "source": [
    "Recursion is the process of a function calling itself, either directly or indirectly. So the function being defined is applied within its own definition. It can be very useful for making code more concise and efficient."
   ]
  },
  {
   "cell_type": "markdown",
   "id": "37446795",
   "metadata": {},
   "source": [
    "Describe the difference between a for-loop and while-loop"
   ]
  },
  {
   "cell_type": "markdown",
   "id": "5d83a581",
   "metadata": {},
   "source": [
    "A for loop runs for a set duration or length, such as for range(x) or for x in len(list). On the other hand, a while loop runs for the duration of a conditional statement so while true or while false. A while loop can also be for while an incremementing number is less than a limit number."
   ]
  },
  {
   "cell_type": "markdown",
   "id": "a4726330",
   "metadata": {},
   "source": [
    "Describe what \"global i\" refers to in the following code, and how it differs from local i."
   ]
  },
  {
   "cell_type": "code",
   "execution_count": 177,
   "id": "2c17bb30",
   "metadata": {},
   "outputs": [
    {
     "name": "stdout",
     "output_type": "stream",
     "text": [
      "2\n",
      "5\n",
      "5\n"
     ]
    }
   ],
   "source": [
    "i=2\n",
    "print(i)\n",
    "\n",
    "def nothing():\n",
    "    global i\n",
    "    i=5      \n",
    "    print(i)\n",
    "nothing()\n",
    "print(i)\n",
    "#The global i in the code redefines the value for i inside and outside of the function.\n",
    "#The local i only defines the value for i within the scope of the function and the value outside the function remains unchanged."
   ]
  },
  {
   "cell_type": "markdown",
   "id": "99bbec99",
   "metadata": {},
   "source": [
    "Comment the following code."
   ]
  },
  {
   "cell_type": "code",
   "execution_count": 176,
   "id": "181d5fa6",
   "metadata": {},
   "outputs": [
    {
     "name": "stdout",
     "output_type": "stream",
     "text": [
      "[1, 1, 2, 3, 5, 8, 13, 21, 34, 55, 89]\n"
     ]
    }
   ],
   "source": [
    "a, b = 0, 1 #set a=0 and b=1\n",
    "amax = 100 #set amax = 100\n",
    "L = [] #instantiate an empty list\n",
    "\n",
    "while True: #while loop runs while the boolean returns true\n",
    "    (a, b) = (b, a + b) #0,1 = 1, 0+1 # set a =b and b=a+b\n",
    "    if a > amax: #if a is greater than 100, then...\n",
    "        break #break out of the loop\n",
    "    L.append(a) #add a into the list L\n",
    "\n",
    "print(L) #print the now populated list"
   ]
  },
  {
   "cell_type": "markdown",
   "id": "f417cd5b",
   "metadata": {},
   "source": [
    "<b> Bonus Exercises </b>"
   ]
  },
  {
   "cell_type": "markdown",
   "id": "5eea9b56",
   "metadata": {},
   "source": [
    "Bonus: Write a Python function to convert a tuple to a string."
   ]
  },
  {
   "cell_type": "code",
   "execution_count": null,
   "id": "dd50e2f8",
   "metadata": {},
   "outputs": [],
   "source": []
  },
  {
   "cell_type": "markdown",
   "id": "8b6604eb",
   "metadata": {},
   "source": [
    "Bonus: Write a Python program to print a tuple with string formatting. You will need to look into print function parameters and string formatting methods."
   ]
  },
  {
   "cell_type": "code",
   "execution_count": null,
   "id": "10aa0dab",
   "metadata": {},
   "outputs": [],
   "source": []
  },
  {
   "cell_type": "markdown",
   "id": "d22b9747",
   "metadata": {},
   "source": [
    "Bonus: Define what a \"hash\" is. Then, get a space-separated list of integers from the user, create a tuple of those integers. Then compute and print the result of hash(tuple).  [Hint](https://docs.python.org/3/library/functions.html#hash). **Hash()**\n",
    "\n",
    "A **[hash](https://en.wikipedia.org/wiki/Hash_function)** is an fixed sized integer that identifies a particular value. Each value needs to have its own hash, so for the same value you will get the same hash even if it's not the same object."
   ]
  },
  {
   "cell_type": "code",
   "execution_count": null,
   "id": "b9ccab42",
   "metadata": {},
   "outputs": [],
   "source": []
  },
  {
   "cell_type": "markdown",
   "id": "4cf6ba94",
   "metadata": {},
   "source": [
    "Bonus: In mathematics, the quadratic equation ax2+bx+c=0 can be solved with the formula x=−b±√((b2−4ac)/2a).\n",
    "\n",
    "Write a function solve_quadratic, that returns both solutions of a generic quadratic as a pair (2-tuple) when the coefficients are given as parameters. It should work like this:\n",
    "\n",
    "print(solve_quadratic(1,-3,2))\n",
    "(2.0,1.0)\n",
    "print(solve_quadratic(1,2,1))\n",
    "(-1.0,-1.0)\n",
    "You may want to use the math.sqrt function from the math module in your solution. Test that your function works in the main function!"
   ]
  },
  {
   "cell_type": "code",
   "execution_count": null,
   "id": "23b36302",
   "metadata": {},
   "outputs": [],
   "source": []
  },
  {
   "cell_type": "markdown",
   "id": "09eb1a66",
   "metadata": {},
   "source": [
    "Bonus: Write a Python function that accepts a string and calculate the number of upper case letters and lower case letters."
   ]
  },
  {
   "cell_type": "code",
   "execution_count": null,
   "id": "fb698d22",
   "metadata": {},
   "outputs": [],
   "source": []
  },
  {
   "cell_type": "markdown",
   "id": "9c555a0e",
   "metadata": {},
   "source": [
    "<b> Final Bonus: Recursion </b>\n",
    "\n",
    "Tower of Hanoi (Python Program)\n",
    "\n",
    "Tower of Hanoi is a mathematical puzzle where we have three rods and n disks. The objective of the puzzle is to move the entire stack to another rod, obeying the following simple rules:\n",
    "\n",
    "Only one disk can be moved at a time.\n",
    "Each move consists of taking the upper disk from one of the stacks and placing it on top of another stack i.e. a disk can only be moved if it is the uppermost disk on a stack.\n",
    "No disk may be placed on top of a smaller disk.\n",
    "Note: Transferring the top n-1 disks from source rod to Auxilliary rod can again be thought of as a fresh problem and can be solved in the same manner.\n",
    "\n",
    "See image and solution in Notebook-Python-0303. "
   ]
  },
  {
   "cell_type": "code",
   "execution_count": null,
   "id": "6640ab46",
   "metadata": {},
   "outputs": [],
   "source": []
  }
 ],
 "metadata": {
  "kernelspec": {
   "display_name": "Python 3 (ipykernel)",
   "language": "python",
   "name": "python3"
  },
  "language_info": {
   "codemirror_mode": {
    "name": "ipython",
    "version": 3
   },
   "file_extension": ".py",
   "mimetype": "text/x-python",
   "name": "python",
   "nbconvert_exporter": "python",
   "pygments_lexer": "ipython3",
   "version": "3.10.9"
  }
 },
 "nbformat": 4,
 "nbformat_minor": 5
}
