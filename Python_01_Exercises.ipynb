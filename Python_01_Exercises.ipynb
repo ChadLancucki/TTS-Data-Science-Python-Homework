{
 "cells": [
  {
   "cell_type": "markdown",
   "id": "630e7a18",
   "metadata": {},
   "source": [
    "<b> Exercises for Python Module 1 </b>\n",
    "\n",
    "Make sure to comment all your code!"
   ]
  },
  {
   "cell_type": "markdown",
   "id": "27e339a6",
   "metadata": {},
   "source": [
    "Accept the user's first and last name and print them in reverse order with a space between them. \n",
    "\n",
    "Keyword hints: print function, input function, append, add, string"
   ]
  },
  {
   "cell_type": "code",
   "execution_count": 16,
   "id": "622a3ae7",
   "metadata": {},
   "outputs": [
    {
     "name": "stdout",
     "output_type": "stream",
     "text": [
      "Enter your First Name: Chad\n",
      "Enter your Last Name: Lancucki\n",
      "Lancucki Chad\n"
     ]
    }
   ],
   "source": [
    "first = input('Enter your First Name: ')\n",
    "last = input('Enter your Last Name: ')\n",
    "print(last + ' ' + first)"
   ]
  },
  {
   "cell_type": "markdown",
   "id": "ea977dfc",
   "metadata": {},
   "source": [
    "Ask the user \"What country are you from?\" then print the following statement: \"I have heard that [input] is a beautiful country!\""
   ]
  },
  {
   "cell_type": "code",
   "execution_count": 19,
   "id": "f6b2cc68",
   "metadata": {},
   "outputs": [
    {
     "name": "stdout",
     "output_type": "stream",
     "text": [
      "What country are you from? America\n",
      "I have heard that America is a beautiful country!\n"
     ]
    }
   ],
   "source": [
    "country = input('What country are you from? ')\n",
    "print('I have heard that ' + country +' is a beautiful country!')"
   ]
  },
  {
   "cell_type": "markdown",
   "id": "217d837d",
   "metadata": {},
   "source": [
    "Explain the output for:\n",
    "\n",
    "x = 36 / 4 * (3 +  2) * 4 + 2"
   ]
  },
  {
   "cell_type": "markdown",
   "id": "865d4e7b",
   "metadata": {},
   "source": [
    "The equation follows the order of operations so the first 3 is added to 2 to be 5 so x=36/4*5*4+2, then multiplication and division are done but in left to right so 36 is divided by 4 to yield 9 which is then multiplied by 5 to yield 45 which is then multiplied by 4 to get 180, so then it simplifies to x=180+2. Finally, addition is performed to get the final result of 182."
   ]
  },
  {
   "cell_type": "markdown",
   "id": "7b77d65d",
   "metadata": {},
   "source": [
    "What is the output of the following code and what arithmetic operators is being used here? \n",
    "\n",
    "print(2%6)"
   ]
  },
  {
   "cell_type": "markdown",
   "id": "939a0763",
   "metadata": {},
   "source": [
    "The output of the following code is 2 and the arithmetic operator being used is modulus."
   ]
  },
  {
   "cell_type": "markdown",
   "id": "b2f2fe38",
   "metadata": {},
   "source": [
    "What is the output of the following code and what arithmetic operators are used here? \n",
    "\n",
    "print(2 * 3 ** 3 * 4)"
   ]
  },
  {
   "cell_type": "markdown",
   "id": "18fe59fd",
   "metadata": {},
   "source": [
    "The output of the code is 216 and the arithmetic operators used here are multiplication and exponentiation. \n"
   ]
  },
  {
   "cell_type": "markdown",
   "id": "c7ccc477",
   "metadata": {},
   "source": [
    "Accept an integer (n) and compute the value of n+nn+nnn. For example, if n = 4, then n+nn+nnn should equal 492. \n",
    "\n",
    "Keyword hints: Hint(4+44+444)"
   ]
  },
  {
   "cell_type": "code",
   "execution_count": 13,
   "id": "34078483",
   "metadata": {},
   "outputs": [
    {
     "name": "stdout",
     "output_type": "stream",
     "text": [
      "Enter a Number: 4\n",
      "492\n"
     ]
    }
   ],
   "source": [
    "n=input('Enter a Number: ')\n",
    "print(int(n)+int(n+n)+int(n+n+n))"
   ]
  },
  {
   "cell_type": "markdown",
   "id": "cc9d29ed",
   "metadata": {},
   "source": [
    "What is an IDE?"
   ]
  },
  {
   "cell_type": "markdown",
   "id": "09c0010d",
   "metadata": {},
   "source": [
    "An IDE is a Integrated Development Environment which combines tools into a graphical user interface to make the process of programming flow better."
   ]
  },
  {
   "cell_type": "markdown",
   "id": "f702b1de",
   "metadata": {},
   "source": [
    "What is a Text Editor?"
   ]
  },
  {
   "cell_type": "markdown",
   "id": "cf9b1d95",
   "metadata": {},
   "source": [
    "A text editor is an application that can be used to write and edit plain text files."
   ]
  },
  {
   "cell_type": "markdown",
   "id": "bc31d150",
   "metadata": {},
   "source": [
    "What is  filepath?"
   ]
  },
  {
   "cell_type": "markdown",
   "id": "9eb23a56",
   "metadata": {},
   "source": [
    "A filepath is the directory path to get to a certain location on your computer. It is where files and applications are stored."
   ]
  },
  {
   "cell_type": "markdown",
   "id": "1a8bf765",
   "metadata": {},
   "source": [
    "Describe Python as a programming language?"
   ]
  },
  {
   "cell_type": "markdown",
   "id": "99de0fb2",
   "metadata": {},
   "source": [
    "Python is a readable and concise object oriented programming language. The verbiage used is intuitive and the object oriented nature of it makes it a very versatile language."
   ]
  },
  {
   "cell_type": "markdown",
   "id": "479cc46c",
   "metadata": {},
   "source": [
    "What is Jupyter Notebook, and how does it differ from other IDEs such as VSCode?"
   ]
  },
  {
   "cell_type": "markdown",
   "id": "f1772ea8",
   "metadata": {},
   "source": [
    "Jupyter notebook is an open sourced web-based IDE software used for multiple programming languages such as Python and R. It differs from other IDEs like VSCode because it is web-based while most other IDEs are local to the computer they are downloaded to."
   ]
  },
  {
   "cell_type": "markdown",
   "id": "8b78b231",
   "metadata": {},
   "source": [
    "What is the difference between a \"code\" cell (at the top of your notebook) and a \"markdown\" cell?"
   ]
  },
  {
   "cell_type": "markdown",
   "id": "5f0e4f33",
   "metadata": {},
   "source": [
    "A \"Code\" cell will be an active python script cell while a \"Markdown\" cell will just be for writing text."
   ]
  },
  {
   "cell_type": "markdown",
   "id": "d4fcc215",
   "metadata": {},
   "source": [
    "Describe each operator catagory: (Notebook 01_03)"
   ]
  },
  {
   "cell_type": "markdown",
   "id": "9e98a97d",
   "metadata": {},
   "source": [
    "Arithmetic operators are used to perform basic arithmetic such as addition, subtraction, multiplication and division. Bitwise operations are used to perform bitwise logical operations on integers. Assignment operators are used to set variables equal to a value. Comparison operators are used to determine if statements comparing the values of two variables are true or false. Boolean operaturs are used to combine the values using the concepts of \"and\", \"or\", and \"not\". Identity operators check for object identity which is different than equality. Membership operators check for membership within compound objects."
   ]
  },
  {
   "cell_type": "markdown",
   "id": "7d048f8c",
   "metadata": {},
   "source": [
    "Describe what the phrase \"everything is an object\" means in Python; what is an object?"
   ]
  },
  {
   "cell_type": "markdown",
   "id": "4c408232",
   "metadata": {},
   "source": [
    "In Python the most basic type is an object, so it is the building block for everything. An object has its own properties and behaviors which lends a lot of utility to the programming language."
   ]
  }
 ],
 "metadata": {
  "kernelspec": {
   "display_name": "Python 3 (ipykernel)",
   "language": "python",
   "name": "python3"
  },
  "language_info": {
   "codemirror_mode": {
    "name": "ipython",
    "version": 3
   },
   "file_extension": ".py",
   "mimetype": "text/x-python",
   "name": "python",
   "nbconvert_exporter": "python",
   "pygments_lexer": "ipython3",
   "version": "3.10.9"
  }
 },
 "nbformat": 4,
 "nbformat_minor": 5
}
